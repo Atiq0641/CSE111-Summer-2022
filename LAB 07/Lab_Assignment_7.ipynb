{
  "nbformat": 4,
  "nbformat_minor": 0,
  "metadata": {
    "colab": {
      "name": "Assignment 7.ipynb",
      "provenance": [],
      "collapsed_sections": [],
      "authorship_tag": "ABX9TyMDIehXSG51yxsVfIPeUb6P",
      "include_colab_link": true
    },
    "kernelspec": {
      "name": "python3",
      "display_name": "Python 3"
    },
    "language_info": {
      "name": "python"
    }
  },
  "cells": [
    {
      "cell_type": "markdown",
      "metadata": {
        "id": "view-in-github",
        "colab_type": "text"
      },
      "source": [
        "<a href=\"https://colab.research.google.com/github/Atiq0641/CSE111-Summer-2022/blob/main/Assignment_7.ipynb\" target=\"_parent\"><img src=\"https://colab.research.google.com/assets/colab-badge.svg\" alt=\"Open In Colab\"/></a>"
      ]
    },
    {
      "cell_type": "markdown",
      "source": [
        "1"
      ],
      "metadata": {
        "id": "BRmHw_erDZwf"
      }
    },
    {
      "cell_type": "code",
      "execution_count": 5,
      "metadata": {
        "colab": {
          "base_uri": "https://localhost:8080/"
        },
        "id": "bF-jqIqFDAb5",
        "outputId": "b0be4e2d-88d2-42bf-9ae5-dead0a811015"
      },
      "outputs": [
        {
          "output_type": "stream",
          "name": "stdout",
          "text": [
            "Name: default Department: BBA\n",
            "Name: Humpty Dumpty Department: BBA\n",
            "Name: Little Bo Peep Department: BBA\n"
          ]
        }
      ],
      "source": [
        "class Student:\n",
        "  def __init__(self, name='Just a student', dept='nothing'):\n",
        "    self.__name = name\n",
        "    self.__department = dept\n",
        "  def set_department(self, dept):\n",
        "    self.__department = dept\n",
        "  def get_name(self):\n",
        "    return self.__name\n",
        "  def set_name(self,name):\n",
        "    self.__name = name\n",
        "  def __str__(self):\n",
        "    return 'Name: '+self.__name+' Department: '+self.__department\n",
        "#write your code here\n",
        "class BBA_Student(Student):\n",
        "    def __init__(self,name='default',dept='BBA'):\n",
        "        super().__init__(name, dept)\n",
        "print(BBA_Student())\n",
        "print(BBA_Student('Humpty Dumpty'))\n",
        "print(BBA_Student('Little Bo Peep'))"
      ]
    },
    {
      "cell_type": "markdown",
      "source": [
        "2"
      ],
      "metadata": {
        "id": "yMT5rFYeYF9B"
      }
    },
    {
      "cell_type": "code",
      "source": [
        "class Vehicle:\n",
        "  def __init__(self):\n",
        "    self.x = 0\n",
        "    self.y = 0\n",
        "  def moveUp(self):\n",
        "    self.y+=1\n",
        "  def moveDown(self):\n",
        "    self.y-=1\n",
        "  def moveRight(self):\n",
        "    self.x+=1\n",
        "  def moveLeft(self):\n",
        "    self.x-=1\n",
        "  def __str__(self):\n",
        "    return '('+str(self.x)+' , '+str(self.y)+')'\n",
        "#write your code here\n",
        "class Vehicle2010(Vehicle):\n",
        "    def moveUpperRight(self):\n",
        "        super().moveUp()\n",
        "        super().moveRight()\n",
        "    def moveUpperLeft(self):\n",
        "        super().moveUp()\n",
        "        super().moveLeft()\n",
        "    def moveLowerRight(self):\n",
        "        super().moveDown()\n",
        "        super().moveRight()\n",
        "    def moveLowerLeft(self):\n",
        "        super().moveDown()\n",
        "        super().moveLeft()\n",
        "    def equals(self,other):\n",
        "        return self.x==other.x and self.y==other.y\n",
        "print('Part 1')\n",
        "print('------')\n",
        "car = Vehicle()\n",
        "print(car)\n",
        "car.moveUp()\n",
        "print(car)\n",
        "car.moveLeft()\n",
        "print(car)\n",
        "car.moveDown()\n",
        "print(car)\n",
        "car.moveRight()\n",
        "print(car)\n",
        "print('------')\n",
        "print('Part 2')\n",
        "print('------')\n",
        "car1 = Vehicle2010()\n",
        "print(car1)\n",
        "car1.moveLowerLeft()\n",
        "print(car1)\n",
        "car2 = Vehicle2010()\n",
        "car2.moveLeft()\n",
        "print(car1.equals(car2))\n",
        "car2.moveDown()\n",
        "print(car1.equals(car2))"
      ],
      "metadata": {
        "colab": {
          "base_uri": "https://localhost:8080/"
        },
        "id": "lqlPjfnoVKuM",
        "outputId": "9aafa645-7ec3-4a99-ec60-6acd36554d85"
      },
      "execution_count": 7,
      "outputs": [
        {
          "output_type": "stream",
          "name": "stdout",
          "text": [
            "Part 1\n",
            "------\n",
            "(0 , 0)\n",
            "(0 , 1)\n",
            "(-1 , 1)\n",
            "(-1 , 0)\n",
            "(0 , 0)\n",
            "------\n",
            "Part 2\n",
            "------\n",
            "(0 , 0)\n",
            "(-1 , -1)\n",
            "False\n",
            "True\n"
          ]
        }
      ]
    },
    {
      "cell_type": "markdown",
      "source": [
        "3"
      ],
      "metadata": {
        "id": "jfrLMMqjYHOn"
      }
    },
    {
      "cell_type": "code",
      "source": [
        "class Tournament:\n",
        "  def __init__(self,name='Default'):\n",
        "    self.__name = name\n",
        "  def set_name(self,name):\n",
        "    self.__name = name\n",
        "  def get_name(self):\n",
        "    return self.__name\n",
        "#write your code here\n",
        "class Cricket_Tournament(Tournament):\n",
        "    def __init__(self,name='default',team=0,game_format='No Type'):\n",
        "        super().__init__(name)\n",
        "        self.team=team\n",
        "        self.game_format=game_format\n",
        "    def detail(self):\n",
        "        return f'Cricket Tournament Name: {super().get_name()}\\nNumber of Teams: {self.team}\\nType: {self.game_format}'\n",
        "class Tennis_Tournament(Tournament):\n",
        "    def __init__(self,name,players):\n",
        "        super().__init__(name)\n",
        "        self.players=players\n",
        "    def detail(self):\n",
        "        return f'Tennis Tournament Name: {super().get_name()}\\nNumber of Players: {self.players}'\n",
        "ct1 = Cricket_Tournament()\n",
        "print(ct1.detail())\n",
        "print(\"-----------------------\")\n",
        "ct2 = Cricket_Tournament(\"IPL\",10,\"t20\")\n",
        "print(ct2.detail())\n",
        "print(\"-----------------------\")\n",
        "tt = Tennis_Tournament(\"Roland Garros\",128)\n",
        "print(tt.detail())"
      ],
      "metadata": {
        "colab": {
          "base_uri": "https://localhost:8080/"
        },
        "id": "KnyAdpzZBbHy",
        "outputId": "da2c334a-6db5-456b-994f-c3e097db7f85"
      },
      "execution_count": 16,
      "outputs": [
        {
          "output_type": "stream",
          "name": "stdout",
          "text": [
            "Cricket Tournament Name: default\n",
            "Number of Teams: 0\n",
            "Type: No Type\n",
            "-----------------------\n",
            "Cricket Tournament Name: IPL\n",
            "Number of Teams: 10\n",
            "Type: t20\n",
            "-----------------------\n",
            "Tennis Tournament Name: Roland Garros\n",
            "Number of Players: 128\n"
          ]
        }
      ]
    },
    {
      "cell_type": "markdown",
      "source": [
        "4"
      ],
      "metadata": {
        "id": "c298rvEzYJIL"
      }
    },
    {
      "cell_type": "code",
      "source": [
        "class Product:\n",
        "  def __init__(self,id, title, price):\n",
        "    self.__id = id\n",
        "    self.__title = title\n",
        "    self.__price = price\n",
        "  def get_id_title_price(self):\n",
        "    return \"ID: \"+str(self.__id)+\" Title:\"+self.__title+\" Price: \"+str(self.__price)\n",
        "#write your code here\n",
        "class Book(Product):\n",
        "    def __init__(self,id,title,price,ISBN,publisher):\n",
        "        super().__init__(id,title,price)\n",
        "        self.ISBN=ISBN\n",
        "        self.publisher=publisher\n",
        "    def printDetail(self):\n",
        "        return f'{super().get_id_title_price()}\\nISBN: {self.ISBN} Publisher: {self.publisher}'\n",
        "class CD(Product):\n",
        "  def __init__(self,id,title,price,band,duration,genre):\n",
        "      super().__init__(id,title,price)\n",
        "      self.band=band\n",
        "      self.duration=duration\n",
        "      self.genre=genre\n",
        "  def printDetail(self):\n",
        "      return f'{super().get_id_title_price()}\\nBand: {self.band} Duration: {self.duration}mintues\\nGenre: {self.genre}'\n",
        "book = Book(1,\"The Alchemist\",500,\"97806\",\"HarperCollins\")\n",
        "print(book.printDetail())\n",
        "print(\"-----------------------\")\n",
        "cd = CD(2,\"Shotto\",300,\"Warfaze\",50,\"Hard Rock\")\n",
        "print(cd.printDetail())"
      ],
      "metadata": {
        "colab": {
          "base_uri": "https://localhost:8080/"
        },
        "id": "0vE-dxhsCpmC",
        "outputId": "6e08b0ed-b873-4c9a-ea8c-6cbd6bdff633"
      },
      "execution_count": 17,
      "outputs": [
        {
          "output_type": "stream",
          "name": "stdout",
          "text": [
            "ID: 1 Title:The Alchemist Price: 500\n",
            "ISBN: 97806 Publisher: HarperCollins\n",
            "-----------------------\n",
            "ID: 2 Title:Shotto Price: 300\n",
            "Band: Warfaze Duration: 50mintues\n",
            "Genre: Hard Rock\n"
          ]
        }
      ]
    },
    {
      "cell_type": "markdown",
      "source": [
        "5"
      ],
      "metadata": {
        "id": "34Pf0wi8YKRf"
      }
    },
    {
      "cell_type": "code",
      "source": [
        "class Animal:\n",
        "  def __init__(self,sound):\n",
        "    self.__sound = sound\n",
        "  def makeSound(self):\n",
        "    return self.__sound\n",
        "\n",
        "class Printer:\n",
        "  def printSound(self, a):\n",
        "    print(a.makeSound())\n",
        "#write your code here\n",
        "class Dog(Animal):\n",
        "    def __init__(self,sound):\n",
        "        super().__init__(sound)\n",
        "class Cat(Animal):\n",
        "  def __init__(self,sound):\n",
        "    super().__init__(sound)        \n",
        "d1 = Dog('bark')\n",
        "c1 = Cat('meow')\n",
        "a1 = Animal('Animal does not make sound')\n",
        "pr = Printer()\n",
        "pr.printSound(a1)\n",
        "pr.printSound(c1)\n",
        "pr.printSound(d1)"
      ],
      "metadata": {
        "colab": {
          "base_uri": "https://localhost:8080/"
        },
        "id": "Jp0OTt8CSSz6",
        "outputId": "52123fb8-b4d3-4e59-eccf-c0ea04525038"
      },
      "execution_count": 18,
      "outputs": [
        {
          "output_type": "stream",
          "name": "stdout",
          "text": [
            "Animal does not make sound\n",
            "meow\n",
            "bark\n"
          ]
        }
      ]
    },
    {
      "cell_type": "markdown",
      "source": [
        "6"
      ],
      "metadata": {
        "id": "E2NiRLlnYLPX"
      }
    },
    {
      "cell_type": "code",
      "source": [
        "class Shape:\n",
        "  def __init__(self, name='Default', height=0, base=0):\n",
        "    self.area = 0\n",
        "    self.name = name\n",
        "    self.height = height\n",
        "    self.base = base\n",
        "  def get_height_base(self):\n",
        "    return \"Height: \"+str(self.height)+\",Base: \"+str(self.base)\n",
        "#write your code here\n",
        "class triangle(Shape):\n",
        "    def __init__(self,name='Default',height=0,base=0):\n",
        "        super().__init__(name,height,base)\n",
        "    def calcArea(self):\n",
        "        self.tri_area=0.5*self.height*self.base\n",
        "    def printDetail(self):\n",
        "        return f'Shape name: {self.name} {super().get_height_base()}\\nHeight: {self.height} Base: {self.base}\\nArea: {self.tri_area}'\n",
        "class trapezoid(Shape):\n",
        "    def __init__(self,name=\"Default\",height=0,base=0,side_a=0):\n",
        "        super().__init__(name,height,base)\n",
        "        self.side_a=side_a\n",
        "    def calcArea(self):\n",
        "        self.trap_area=((self.base+self.side_a)/2*self.height)\n",
        "    def printDetail(self):\n",
        "        return f'Shape name:{self.name} {super().get_height_base()}\\nHeight: {self.height} Base: {self.base} Side_A: {self.side_a}\\nArea: {self.trap_area}'\n",
        "tri_default = triangle()\n",
        "tri_default.calcArea()\n",
        "print(tri_default.printDetail())\n",
        "print('--------------------------')\n",
        "tri = triangle('Triangle', 10, 5)\n",
        "tri.calcArea()\n",
        "print(tri.printDetail())\n",
        "print('---------------------------')\n",
        "trap = trapezoid('Trapezoid', 10, 6, 4)\n",
        "trap.calcArea()\n",
        "print(trap.printDetail())"
      ],
      "metadata": {
        "colab": {
          "base_uri": "https://localhost:8080/"
        },
        "id": "OMpnpks4SUUR",
        "outputId": "0c57f288-ff2d-4223-9101-ec78340cff32"
      },
      "execution_count": 24,
      "outputs": [
        {
          "output_type": "stream",
          "name": "stdout",
          "text": [
            "Shape name: Default Height: 0,Base: 0\n",
            "Height: 0 Base: 0\n",
            "Area: 0.0\n",
            "--------------------------\n",
            "Shape name: Triangle Height: 10,Base: 5\n",
            "Height: 10 Base: 5\n",
            "Area: 25.0\n",
            "---------------------------\n",
            "Shape name:Trapezoid Height: 10,Base: 6\n",
            "Height: 10 Base: 6 Side_A: 4\n",
            "Area: 50.0\n"
          ]
        }
      ]
    },
    {
      "cell_type": "markdown",
      "source": [
        "7"
      ],
      "metadata": {
        "id": "3xebwM4kYMVA"
      }
    },
    {
      "cell_type": "code",
      "source": [
        "class Football:\n",
        "  def __init__(self, team_name, name, role):\n",
        "    self.__team = team_name\n",
        "    self.__name = name\n",
        "    self.role = role\n",
        "    self.earning_per_match = 0\n",
        "  def get_name_team(self):\n",
        "    return 'Name: '+self.__name+', Team Name: ' +self.__team\n",
        "#write your code here\n",
        "class Player(Football):\n",
        "    def __init__(self,team_name,name,role,goal,played):\n",
        "        super().__init__(team_name,name,role)\n",
        "        self.goal=goal\n",
        "        self.played=played\n",
        "        self.earning_per_match=(goal*1000)+(played*10)\n",
        "    def calculate_ratio(self):\n",
        "        return self.goal/self.played\n",
        "    def print_details(self):\n",
        "        print(f'{super().get_name_team()}\\nTeam Role: {self.role}\\nTotal Goal: {self.goal}, Total Played: {self.played}\\nGoal Ratio: {self.calculate_ratio()}\\nMatch Earning: {self.earning_per_match}k')\n",
        "class Manager(Football):\n",
        "    def __init__(self,team_name,name,role,win):\n",
        "        super().__init__(team_name,name,role)\n",
        "        self.win=win\n",
        "        self.earning_per_match=win*1000\n",
        "    def print_details(self):\n",
        "        print(f'{super().get_name_team()}\\nTeam Role: {self.role}\\nTotal Win: {self.win}\\nMatch Earning: {self.earning_per_match}k')\n",
        "player_one = Player('Juventus', 'Ronaldo', 'Striker', 25, 32)\n",
        "player_one.calculate_ratio()\n",
        "player_one.print_details()\n",
        "print('------------------------------------------')\n",
        "manager_one = Manager('Real Madrid', 'Zidane', 'Manager', 25)\n",
        "manager_one.print_details()"
      ],
      "metadata": {
        "colab": {
          "base_uri": "https://localhost:8080/"
        },
        "id": "5VNMxN_MWvNt",
        "outputId": "e048b25b-93c2-4944-8dd0-fab265cb8641"
      },
      "execution_count": 26,
      "outputs": [
        {
          "output_type": "stream",
          "name": "stdout",
          "text": [
            "Name: Ronaldo, Team Name: Juventus\n",
            "Team Role: Striker\n",
            "Total Goal: 25, Total Played: 32\n",
            "Goal Ratio: 0.78125\n",
            "Match Earning: 25320k\n",
            "------------------------------------------\n",
            "Name: Zidane, Team Name: Real Madrid\n",
            "Team Role: Manager\n",
            "Total Win: 25\n",
            "Match Earning: 25000k\n"
          ]
        }
      ]
    }
  ]
}
