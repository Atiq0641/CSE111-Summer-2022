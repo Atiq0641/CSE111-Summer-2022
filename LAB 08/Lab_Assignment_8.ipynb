{
  "nbformat": 4,
  "nbformat_minor": 0,
  "metadata": {
    "colab": {
      "name": "Assignment 08.ipynb",
      "provenance": [],
      "collapsed_sections": [],
      "authorship_tag": "ABX9TyNCvXMDmoGCwPMjbgQWG8Yl",
      "include_colab_link": true
    },
    "kernelspec": {
      "name": "python3",
      "display_name": "Python 3"
    },
    "language_info": {
      "name": "python"
    }
  },
  "cells": [
    {
      "cell_type": "markdown",
      "metadata": {
        "id": "view-in-github",
        "colab_type": "text"
      },
      "source": [
        "<a href=\"https://colab.research.google.com/github/Atiq0641/CSE111-Summer-2022/blob/main/Assignment_08.ipynb\" target=\"_parent\"><img src=\"https://colab.research.google.com/assets/colab-badge.svg\" alt=\"Open In Colab\"/></a>"
      ]
    },
    {
      "cell_type": "markdown",
      "source": [
        "1"
      ],
      "metadata": {
        "id": "radb7nBl0N2O"
      }
    },
    {
      "cell_type": "code",
      "execution_count": 1,
      "metadata": {
        "colab": {
          "base_uri": "https://localhost:8080/"
        },
        "id": "hDm1YkD1JSYb",
        "outputId": "b7c587e1-a949-4891-b303-fbcb4170a957"
      },
      "outputs": [
        {
          "output_type": "stream",
          "name": "stdout",
          "text": [
            "RealPart: 1.0\n",
            "ImaginaryPart: 1.0\n",
            "---------\n",
            "RealPart: 5.0\n",
            "ImaginaryPart: 7.0\n"
          ]
        }
      ],
      "source": [
        "class RealNumber:\n",
        "  def __init__(self,r=0):\n",
        "    self.__realValue = r\n",
        "  def getRealValue(self):\n",
        "    return self.__realValue\n",
        "  def setRealValue(self, r):\n",
        "    self.__realValue = r\n",
        "  def __str__(self):\n",
        "    return 'RealPart: '+str(self.getRealValue())\n",
        "class ComplexNumber(RealNumber):\n",
        "  def __init__(self, m=1, n=1):\n",
        "    super().__init__(float(m))\n",
        "    self.imaginary_number=n\n",
        "  def __str__(self):\n",
        "   return 'RealPart: '+str(float(self.getRealValue()))+\"\\nImaginaryPart: \"+ str(float(self.imaginary_number))\n",
        "cn1 = ComplexNumber()\n",
        "print(cn1)\n",
        "print('---------')\n",
        "cn2 = ComplexNumber(5,7)\n",
        "print(cn2)"
      ]
    },
    {
      "cell_type": "markdown",
      "source": [
        "Task 2"
      ],
      "metadata": {
        "id": "Fv56aOdE0PR0"
      }
    },
    {
      "cell_type": "code",
      "source": [
        "class RealNumber:\n",
        "  def __init__(self, number=0):\n",
        "    self.number = number\n",
        "  def __add__(self, anotherRealNumber):\n",
        "    return self.number + anotherRealNumber.number\n",
        "  def __sub__(self, anotherRealNumber):\n",
        "    return self.number - anotherRealNumber.number\n",
        "  def __str__(self):\n",
        "    return str(self.number)\n",
        "\n",
        "\n",
        "class ComplexNumber(RealNumber):\n",
        "    def __init__(self,real_number=0,img_number=0):\n",
        "\n",
        "\n",
        "      if type(real_number)==int:\n",
        "        super().__init__(real_number)\n",
        "        self.img_number=img_number\n",
        "\n",
        "\n",
        "      else:\n",
        "        super().__init__(real_number.number)\n",
        "        self.img_number=img_number          \n",
        "\n",
        "\n",
        "    def __add__(self,other):\n",
        "        real_number=self.number+other.number\n",
        "        img_number=self.img_number+other.img_number\n",
        "        return ComplexNumber(real_number,img_number)\n",
        "\n",
        "\n",
        "    def __sub__(self,other):\n",
        "        real_number=self.number-other.number\n",
        "        img_number=self.img_number-other.img_number\n",
        "        return ComplexNumber(real_number,img_number)\n",
        "\n",
        "\n",
        "    def __str__(self):\n",
        "        if self.img_number<0:\n",
        "            return f'{self.number} {self.img_number}i'\n",
        "        else:\n",
        "            return f'{self.number} + {self.img_number}i'\n",
        "         \n",
        "r1 = RealNumber(3)\n",
        "r2 = RealNumber(5)\n",
        "print(r1+r2)\n",
        "cn1 = ComplexNumber(2, 1)\n",
        "print(cn1)\n",
        "cn2 = ComplexNumber(r1, 5)\n",
        "print(cn2)\n",
        "cn3 = cn1 + cn2\n",
        "print(cn3)\n",
        "cn4 = cn1 - cn2\n",
        "print(cn4)"
      ],
      "metadata": {
        "colab": {
          "base_uri": "https://localhost:8080/"
        },
        "id": "HHRQzdOD0Qmr",
        "outputId": "0aa6d8b4-ff45-4156-9e1d-d6a0eef0dceb"
      },
      "execution_count": 2,
      "outputs": [
        {
          "output_type": "stream",
          "name": "stdout",
          "text": [
            "8\n",
            "2 + 1i\n",
            "3 + 5i\n",
            "5 + 6i\n",
            "-1 -4i\n"
          ]
        }
      ]
    },
    {
      "cell_type": "markdown",
      "source": [
        "Tsk 3"
      ],
      "metadata": {
        "id": "uQcrGpfEPbYD"
      }
    },
    {
      "cell_type": "code",
      "source": [
        "class Account:\n",
        "  def __init__(self, balance):\n",
        "    self._balance = balance\n",
        "  def getBalance(self):\n",
        "    return self._balance\n",
        "class CheckingAccount(Account):\n",
        "  numberOfAccount=0\n",
        "  def __init__(self,balance=0):\n",
        "    super().__init__(balance)    \n",
        "    CheckingAccount.numberOfAccount+=1\n",
        "  def __str__(self):\n",
        "    return \"Accounts Balance: \"+str(self.getBalance())  \n",
        "print('Number of Checking Accounts: ', CheckingAccount.numberOfAccount)\n",
        "print(CheckingAccount())\n",
        "print(CheckingAccount(100.00))\n",
        "print(CheckingAccount(200.00))\n",
        "print('Number of Checking Accounts: ', CheckingAccount.numberOfAccount)"
      ],
      "metadata": {
        "id": "Un5gYhCXPbBa",
        "colab": {
          "base_uri": "https://localhost:8080/"
        },
        "outputId": "c404a49a-7472-4222-8e1c-33b2b3d347cf"
      },
      "execution_count": 3,
      "outputs": [
        {
          "output_type": "stream",
          "name": "stdout",
          "text": [
            "Number of Checking Accounts:  0\n",
            "Accounts Balance: 0\n",
            "Accounts Balance: 100.0\n",
            "Accounts Balance: 200.0\n",
            "Number of Checking Accounts:  3\n"
          ]
        }
      ]
    },
    {
      "cell_type": "markdown",
      "source": [
        "Task 4"
      ],
      "metadata": {
        "id": "Pwypp3UUTjVK"
      }
    },
    {
      "cell_type": "code",
      "source": [
        "class Fruit:\n",
        "  def __init__(self, formalin=False, name=''):\n",
        "    self.__formalin = formalin\n",
        "    self.name = name\n",
        "  def getName(self):\n",
        "    return self.name\n",
        "  def hasFormalin(self):\n",
        "    return self.__formalin\n",
        "class testFruit:\n",
        "  def test(self, f):\n",
        "    print('----Printing Detail----')\n",
        "    if f.hasFormalin():\n",
        "      print('Do not eat the',f.getName(),'.')\n",
        "      print(f)\n",
        "    else:\n",
        "      print('Eat the',f.getName(),'.')\n",
        "      print(f)\n",
        "class Mango(Fruit):\n",
        "  def __init__(self,formalin=True,name=\"Mango\"):\n",
        "    super().__init__(formalin,name)\n",
        "  def __str__(self):\n",
        "    if self.hasFormalin:\n",
        "      return f'{self.name}s are bad for you'\n",
        "    else:\n",
        "      return f'{self.name}s are good for you'  \n",
        "class Jackfruit(Fruit):\n",
        "  def __init__(self,formalin=False,name=\"Jackfruit\"):\n",
        "    super().__init__(formalin,name)\n",
        "  def __str__(self):\n",
        "    if self.hasFormalin:\n",
        "      return f'{self.name}s are bad for you'\n",
        "    else:\n",
        "      return f'{self.name}s are good for you'\n",
        "m = Mango()\n",
        "j = Jackfruit()\n",
        "t1 = testFruit()\n",
        "t1.test(m)\n",
        "t1.test(j)"
      ],
      "metadata": {
        "colab": {
          "base_uri": "https://localhost:8080/"
        },
        "id": "erauwFDDTilD",
        "outputId": "63894426-f32d-4e76-c21b-149427b4bd53"
      },
      "execution_count": 4,
      "outputs": [
        {
          "output_type": "stream",
          "name": "stdout",
          "text": [
            "----Printing Detail----\n",
            "Do not eat the Mango .\n",
            "Mangos are bad for you\n",
            "----Printing Detail----\n",
            "Eat the Jackfruit .\n",
            "Jackfruits are bad for you\n"
          ]
        }
      ]
    },
    {
      "cell_type": "markdown",
      "source": [
        "Task 5"
      ],
      "metadata": {
        "id": "ClACSdNE2QFl"
      }
    },
    {
      "cell_type": "code",
      "source": [
        "class Exam:\n",
        "  def __init__(self,marks):\n",
        "    self.marks = marks\n",
        "    self.time = 60\n",
        "  def examSyllabus(self):\n",
        "    return \"Maths , English\"\n",
        "  def examParts(self):\n",
        "    return \"Part 1 - Maths\\nPart 2 - English\\n\"\n",
        "\n",
        "\n",
        "class ScienceExam(Exam):\n",
        "  def __init__(self,marks,time,*subjects):\n",
        "    super().__init__(marks)\n",
        "    self.time=time\n",
        "    self.subjects=subjects\n",
        "    comp_subs=[\"Maths\",\"English\"]\n",
        "    self.sub_lst=comp_subs+list(self.subjects)\n",
        "  def examSyllabus(self):\n",
        "    empty_str=''\n",
        "    for i in range(len(self.sub_lst)):\n",
        "      if i!=len(self.sub_lst)-1:\n",
        "        empty_str+=self.sub_lst[i]+\" , \"\n",
        "      else:\n",
        "        empty_str+=self.sub_lst[i]\n",
        "    return empty_str\n",
        "  def examParts(self):\n",
        "    another_empty_str=''\n",
        "    for j in range(len(self.sub_lst)):\n",
        "      if j!=len(self.sub_lst)-1:\n",
        "        another_empty_str+=f'Part {j+1} - {self.sub_lst[j]}\\n'\n",
        "      else:\n",
        "        another_empty_str+=f'Part {j+1} - {self.sub_lst[j]}'\n",
        "    return another_empty_str\n",
        "  def __str__(self):\n",
        "    return f'''Marks: {self.marks} Time: {self.time} minutes Number of \n",
        "Parts: {len(self.sub_lst)}'''\n",
        "engineering = ScienceExam(100,90,\"Physics\",\"HigherMaths\")\n",
        "print(engineering)\n",
        "print('----------------------------------')\n",
        "print(engineering.examSyllabus())\n",
        "print(engineering.examParts())\n",
        "print('==================================')\n",
        "architecture = ScienceExam(100,120,\"Physics\",\"HigherMaths\",\"Drawing\")\n",
        "print(architecture)\n",
        "print('----------------------------------')\n",
        "print(architecture.examSyllabus())\n",
        "print(architecture.examParts())"
      ],
      "metadata": {
        "colab": {
          "base_uri": "https://localhost:8080/"
        },
        "id": "p5ZvfYhr2RTs",
        "outputId": "a4646296-0554-4fb5-8dde-6615ef7da3d7"
      },
      "execution_count": 5,
      "outputs": [
        {
          "output_type": "stream",
          "name": "stdout",
          "text": [
            "Marks: 100 Time: 90 minutes Number of \n",
            "Parts: 4\n",
            "----------------------------------\n",
            "Maths , English , Physics , HigherMaths\n",
            "Part 1 - Maths\n",
            "Part 2 - English\n",
            "Part 3 - Physics\n",
            "Part 4 - HigherMaths\n",
            "==================================\n",
            "Marks: 100 Time: 120 minutes Number of \n",
            "Parts: 5\n",
            "----------------------------------\n",
            "Maths , English , Physics , HigherMaths , Drawing\n",
            "Part 1 - Maths\n",
            "Part 2 - English\n",
            "Part 3 - Physics\n",
            "Part 4 - HigherMaths\n",
            "Part 5 - Drawing\n"
          ]
        }
      ]
    },
    {
      "cell_type": "markdown",
      "source": [
        "Task 6"
      ],
      "metadata": {
        "id": "9_oF83o4W0Tx"
      }
    },
    {
      "cell_type": "code",
      "source": [
        "class Shape3D:\n",
        "  pi = 3.14159\n",
        "  def __init__(self, name = 'Default', radius = 0):\n",
        "    self._area = 0\n",
        "    self._name = name\n",
        "    self._height = 'No need'\n",
        "    self._radius = radius\n",
        "  def calc_surface_area(self):\n",
        "    return 2 * Shape3D.pi * self._radius\n",
        "  def __str__(self):\n",
        "    return \"Radius: \"+str(self._radius)\n",
        "class Sphere(Shape3D):\n",
        "  def __init__(self,name,radius=0):\n",
        "    super().__init__(name,radius)\n",
        "    print(f'Shape name: {self._name}, Area Formula: 4 * pi * r* r')\n",
        "  def sphere_calc_surface_area(self):\n",
        "    a=self.calc_surface_area()\n",
        "    return 2 *a*self._radius\n",
        "  def __str__(self):\n",
        "    return f\"Radius: {self._radius}, Height: No need\\nArea: {self.sphere_calc_surface_area()}\"\n",
        "class Cylinder(Shape3D):\n",
        "  def __init__(self,name,radius=0,height=0):\n",
        "    super().__init__(name,radius)\n",
        "    self.height=height\n",
        "    print(f'Shape name: {self._name}, Area Formula: 2 * pi * r* (r+h)')\n",
        "  def cylinder_calc_surface_area(self):\n",
        "    a=self.calc_surface_area()\n",
        "    return a*(self._radius+self.height)\n",
        "  def __str__(self):\n",
        "    return f\"Radius: {self._radius}, Height: {self.height}\\nArea: {self.cylinder_calc_surface_area()}\"\n",
        "sph = Sphere('Sphere', 5)\n",
        "print('----------------------------------')\n",
        "sph.calc_surface_area()\n",
        "print(sph)\n",
        "print('==================================')\n",
        "cyl = Cylinder('Cylinder', 5, 10)\n",
        "print('----------------------------------')\n",
        "cyl.calc_surface_area()\n",
        "print(cyl)"
      ],
      "metadata": {
        "colab": {
          "base_uri": "https://localhost:8080/"
        },
        "id": "5Cj9y_G_Wz3a",
        "outputId": "dcbd5ddb-5052-44fc-dabf-69d460d6af1f"
      },
      "execution_count": 6,
      "outputs": [
        {
          "output_type": "stream",
          "name": "stdout",
          "text": [
            "Shape name: Sphere, Area Formula: 4 * pi * r* r\n",
            "----------------------------------\n",
            "Radius: 5, Height: No need\n",
            "Area: 314.159\n",
            "==================================\n",
            "Shape name: Cylinder, Area Formula: 2 * pi * r* (r+h)\n",
            "----------------------------------\n",
            "Radius: 5, Height: 10\n",
            "Area: 471.2385\n"
          ]
        }
      ]
    },
    {
      "cell_type": "markdown",
      "source": [
        "Task 7"
      ],
      "metadata": {
        "id": "g-cwZcsa-mKj"
      }
    },
    {
      "cell_type": "code",
      "source": [
        "class PokemonBasic:\n",
        "  def __init__(self, name = 'Default', hp = 0, weakness = 'None', type = 'Unknown'):\n",
        "    self.name = name\n",
        "    self.hit_point = hp\n",
        "    self.weakness = weakness\n",
        "    self.type = type\n",
        "  def get_type(self):\n",
        "    return 'Main type: ' + self.type\n",
        "  def get_move(self):\n",
        "    return 'Basic move: ' + 'Quick Attack'\n",
        "  def __str__(self):\n",
        "    return \"Name: \" + self.name + \", HP: \" + str(self.hit_point) + \", Weakness: \" + self.weakness\n",
        "class PokemonExtra(PokemonBasic):\n",
        "  def __init__(self,name='default', hp=0, weakness= 'None', type='Unknown', secondary_type='Unknown',*other_move):\n",
        "    super().__init__(name,hp,weakness,type)\n",
        "    self.secondary_type=secondary_type\n",
        "    self.other_move=other_move\n",
        "  def get_move(self):\n",
        "    if len(self.other_move)==0:\n",
        "      return f'Basic move: Quick Attack'\n",
        "    else:\n",
        "      empty_str=''\n",
        "      for i in self.other_move:\n",
        "        for j in range(len(i)):\n",
        "          if j!=len(i)-1:\n",
        "            empty_str+=i[j]+\", \"\n",
        "          else:\n",
        "            empty_str+=i[j]\n",
        "      return f'Basic move: Quick Attack\\nOther move: {empty_str}'      \n",
        "  def get_type(self):\n",
        "    if self.secondary_type!='Unknown':\n",
        "      return f'Main type: {self.type} Secondary Type: {self.secondary_type}'\n",
        "    else:\n",
        "      return f'Main type: {self.type}'                                \n",
        "  def __str__(self):\n",
        "    return f'Name: {self.name} HP: {self.hit_point} Weakness: {self.weakness}'\n",
        "print('\\n------------Basic Info:--------------')\n",
        "pk = PokemonBasic()\n",
        "print(pk)\n",
        "print(pk.get_type())\n",
        "print(pk.get_move())\n",
        "print('\\n------------Pokemon 1 Info:-------------')\n",
        "charmander = PokemonExtra('Charmander', 39, 'Water', 'Fire')\n",
        "print(charmander)\n",
        "print(charmander.get_type())\n",
        "print(charmander.get_move())\n",
        "print('\\n------------Pokemon 2 Info:-------------')\n",
        "charizard = PokemonExtra('Charizard', 78, 'Water', 'Fire', 'Flying', ('Fire Spin', 'Fire Blaze'))\n",
        "print(charizard)\n",
        "print(charizard.get_type())\n",
        "print(charizard.get_move())"
      ],
      "metadata": {
        "colab": {
          "base_uri": "https://localhost:8080/"
        },
        "id": "92oiDhic-nmC",
        "outputId": "e24cc70a-7b14-4bcb-a1a4-c2f0ee038182"
      },
      "execution_count": 7,
      "outputs": [
        {
          "output_type": "stream",
          "name": "stdout",
          "text": [
            "\n",
            "------------Basic Info:--------------\n",
            "Name: Default, HP: 0, Weakness: None\n",
            "Main type: Unknown\n",
            "Basic move: Quick Attack\n",
            "\n",
            "------------Pokemon 1 Info:-------------\n",
            "Name: Charmander HP: 39 Weakness: Water\n",
            "Main type: Fire\n",
            "Basic move: Quick Attack\n",
            "\n",
            "------------Pokemon 2 Info:-------------\n",
            "Name: Charizard HP: 78 Weakness: Water\n",
            "Main type: Fire Secondary Type: Flying\n",
            "Basic move: Quick Attack\n",
            "Other move: Fire Spin, Fire Blaze\n"
          ]
        }
      ]
    },
    {
      "cell_type": "markdown",
      "source": [
        "Task 8"
      ],
      "metadata": {
        "id": "csY_xpwTPU6Q"
      }
    },
    {
      "cell_type": "code",
      "source": [
        "class Team:\n",
        "  def __init__(self, name):\n",
        "    self.name = \"default\"\n",
        "    self.total_player = 5\n",
        "  def info(self):\n",
        "    print(\"We love sports\")\n",
        "# Write your code here.\n",
        "class FootBallTeam(Team):\n",
        "  def __init__(self,name):\n",
        "    self.name=name\n",
        "    self.total_player=11\n",
        "  def info(self):\n",
        "    print(f'Our name is {self.name}\\nWe play Football\\nWe love sports')\n",
        "class CricketTeam(Team):\n",
        "  def __init__(self,name):\n",
        "    self.name=name\n",
        "    self.total_player=11\n",
        "  def info(self):\n",
        "    print(f'Our name is {self.name}\\nWe play Cricket\\nWe love sports')    \n",
        "class Team_test:\n",
        "  def check(self, tm):\n",
        "    print(\"=========================\")\n",
        "    print(\"Total Player: \", tm.total_player)\n",
        "    tm.info()\n",
        "f = FootBallTeam(\"Brazil\")\n",
        "c = CricketTeam(\"Bangladesh\")\n",
        "test = Team_test()\n",
        "test.check(f)\n",
        "test.check(c)"
      ],
      "metadata": {
        "colab": {
          "base_uri": "https://localhost:8080/"
        },
        "id": "u5Extr0pPWYw",
        "outputId": "5f120e72-8eaa-43a7-9d58-92bc98da8302"
      },
      "execution_count": 8,
      "outputs": [
        {
          "output_type": "stream",
          "name": "stdout",
          "text": [
            "=========================\n",
            "Total Player:  11\n",
            "Our name is Brazil\n",
            "We play Football\n",
            "We love sports\n",
            "=========================\n",
            "Total Player:  11\n",
            "Our name is Bangladesh\n",
            "We play Cricket\n",
            "We love sports\n"
          ]
        }
      ]
    },
    {
      "cell_type": "markdown",
      "source": [
        "Task 9"
      ],
      "metadata": {
        "id": "De-Ew27yTPqH"
      }
    },
    {
      "cell_type": "code",
      "source": [
        "class Pokemon:\n",
        "  def __init__(self, p):\n",
        "    self.pokemon = p\n",
        "    self.pokemon_type = \"Needs to be set\"\n",
        "    self.pokemon_weakness = \"Needs to be set\"\n",
        "  def kind(self):\n",
        "    return self.pokemon_type\n",
        "  def weakness(self):\n",
        "    return self.pokemon_weakness\n",
        "  def what_am_i(self):\n",
        "    print(\"I am a Pokemon.\")\n",
        "class Pikachu(Pokemon):\n",
        "  def __init__(self,p='Pikachu'):\n",
        "    super().__init__(p)\n",
        "    self.pokemon_type= 'Electric'\n",
        "    self.pokemon_weakness='Ground'\n",
        "  def what_am_i(self):\n",
        "    print(f'I am a Pokemon')\n",
        "    print(f'I am {self.pokemon}')\n",
        "class Charmander(Pokemon):\n",
        "  def __init__(self,p=\"Charmander\"):\n",
        "    self.pokemon=p\n",
        "    self.pokemon_type='Fire'\n",
        "    self.pokemon_weakness='Water, Ground and Rock'\n",
        "  def what_am_i(self):\n",
        "    print(f'I am a Pokemon')\n",
        "    print(f'I am {self.pokemon}')             \n",
        "pk1 = Pikachu()\n",
        "print(\"Pokemon:\", pk1.pokemon)\n",
        "print(\"Type:\", pk1.kind())\n",
        "print(\"Weakness:\", pk1.weakness())\n",
        "pk1.what_am_i()\n",
        "print(\"========================\")\n",
        "c1 = Charmander()\n",
        "print(\"Pokemon:\", c1.pokemon)\n",
        "print(\"Type:\", c1.kind())\n",
        "print(\"Weakness:\", c1.weakness())\n",
        "c1.what_am_i()"
      ],
      "metadata": {
        "colab": {
          "base_uri": "https://localhost:8080/"
        },
        "id": "oNsQ1wa9Tvvn",
        "outputId": "f53e31b6-afae-432a-b477-975870aa5fec"
      },
      "execution_count": 9,
      "outputs": [
        {
          "output_type": "stream",
          "name": "stdout",
          "text": [
            "Pokemon: Pikachu\n",
            "Type: Electric\n",
            "Weakness: Ground\n",
            "I am a Pokemon\n",
            "I am Pikachu\n",
            "========================\n",
            "Pokemon: Charmander\n",
            "Type: Fire\n",
            "Weakness: Water, Ground and Rock\n",
            "I am a Pokemon\n",
            "I am Charmander\n"
          ]
        }
      ]
    },
    {
      "cell_type": "markdown",
      "source": [
        "Task 10"
      ],
      "metadata": {
        "id": "MfhqdVr2V2r_"
      }
    },
    {
      "cell_type": "code",
      "source": [
        "class Department:\n",
        "  def __init__(self, s):\n",
        "    self.semester = s\n",
        "    self.name = \"Default\"\n",
        "    self.id = -1\n",
        "  def student_info(self):\n",
        "    print(\"Name:\", self.name)\n",
        "    print(\"ID:\", self.id)\n",
        "  def courses(self, c1, c2, c3):\n",
        "    print(\"No courses Approved yet!\")\n",
        "class CSE(Department):\n",
        "  def __init__(self,name,id,s):\n",
        "    super().__init__(s)\n",
        "    self.name=name\n",
        "    self.id=id\n",
        "  def courses(self, c1,c2,c3):\n",
        "    print(f'Courses Approved to this CSE student in {self.semester} semester:\\n{c1}\\n{c2}\\n{c3}')\n",
        "class EEE(Department):\n",
        "  def __init__(self,name,id,s):\n",
        "    super().__init__(s)\n",
        "    self.name=name\n",
        "    self.id=id\n",
        "  def courses(self, c1,c2,c3):\n",
        "    print(f'Courses Approved to this EEE student in {self.semester} semester:\\n{c1}\\n{c2}\\n{c3}')     \n",
        "s1 = CSE(\"Rahim\", 16101328,\"Spring2016\")\n",
        "s1.student_info()\n",
        "s1.courses(\"CSE110\", \"MAT110\", \"ENG101\")\n",
        "print(\"==================\")\n",
        "s2 = EEE(\"Tanzim\", 18101326, \"Spring2018\")\n",
        "s2.student_info()\n",
        "s2.courses(\"Mat110\", \"PHY111\", \"ENG101\")\n",
        "print(\"==================\")\n",
        "s3 = CSE(\"Rudana\", 18101326, \"Fall2017\")\n",
        "s3.student_info()\n",
        "s3.courses(\"CSE111\", \"PHY101\", \"MAT120\")\n",
        "print(\"==================\")\n",
        "s4 = EEE(\"Zainab\", 19201623, \"Summer2019\")\n",
        "s4.student_info()\n",
        "s4.courses(\"EEE201\", \"PHY112\", \"MAT120\")"
      ],
      "metadata": {
        "colab": {
          "base_uri": "https://localhost:8080/"
        },
        "id": "rwvG8qX1V4iG",
        "outputId": "3bf3e54f-490d-4690-b990-90f1d9f98b15"
      },
      "execution_count": 10,
      "outputs": [
        {
          "output_type": "stream",
          "name": "stdout",
          "text": [
            "Name: Rahim\n",
            "ID: 16101328\n",
            "Courses Approved to this CSE student in Spring2016 semester:\n",
            "CSE110\n",
            "MAT110\n",
            "ENG101\n",
            "==================\n",
            "Name: Tanzim\n",
            "ID: 18101326\n",
            "Courses Approved to this EEE student in Spring2018 semester:\n",
            "Mat110\n",
            "PHY111\n",
            "ENG101\n",
            "==================\n",
            "Name: Rudana\n",
            "ID: 18101326\n",
            "Courses Approved to this CSE student in Fall2017 semester:\n",
            "CSE111\n",
            "PHY101\n",
            "MAT120\n",
            "==================\n",
            "Name: Zainab\n",
            "ID: 19201623\n",
            "Courses Approved to this EEE student in Summer2019 semester:\n",
            "EEE201\n",
            "PHY112\n",
            "MAT120\n"
          ]
        }
      ]
    }
  ]
}
